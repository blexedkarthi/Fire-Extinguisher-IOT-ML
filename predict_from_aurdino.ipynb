{
 "cells": [
  {
   "cell_type": "code",
   "execution_count": 1,
   "id": "673ea473-4f1a-4072-a387-6c349495f499",
   "metadata": {},
   "outputs": [
    {
     "ename": "ModuleNotFoundError",
     "evalue": "No module named 'serial'",
     "output_type": "error",
     "traceback": [
      "\u001b[1;31m---------------------------------------------------------------------------\u001b[0m",
      "\u001b[1;31mModuleNotFoundError\u001b[0m                       Traceback (most recent call last)",
      "Cell \u001b[1;32mIn[1], line 1\u001b[0m\n\u001b[1;32m----> 1\u001b[0m \u001b[38;5;28;01mimport\u001b[39;00m \u001b[38;5;21;01mserial\u001b[39;00m\n\u001b[0;32m      2\u001b[0m \u001b[38;5;28;01mimport\u001b[39;00m \u001b[38;5;21;01mjoblib\u001b[39;00m\n\u001b[0;32m      3\u001b[0m \u001b[38;5;28;01mimport\u001b[39;00m \u001b[38;5;21;01mtime\u001b[39;00m\n",
      "\u001b[1;31mModuleNotFoundError\u001b[0m: No module named 'serial'"
     ]
    }
   ],
   "source": [
    "\n",
    "\n",
    "\n",
    "\n",
    "\n"
   ]
  },
  {
   "cell_type": "code",
   "execution_count": 5,
   "id": "70da6ed8-dcac-4e5d-a74f-02c498585a76",
   "metadata": {},
   "outputs": [
    {
     "name": "stdout",
     "output_type": "stream",
     "text": [
      "Defaulting to user installation because normal site-packages is not writeable\n",
      "Collecting pyserial\n",
      "  Downloading pyserial-3.5-py2.py3-none-any.whl.metadata (1.6 kB)\n",
      "Downloading pyserial-3.5-py2.py3-none-any.whl (90 kB)\n",
      "   ---------------------------------------- 0.0/90.6 kB ? eta -:--:--\n",
      "   ---------------------------------------- 0.0/90.6 kB ? eta -:--:--\n",
      "   ---------------------------------------- 0.0/90.6 kB ? eta -:--:--\n",
      "   --------- ------------------------------ 20.5/90.6 kB ? eta -:--:--\n",
      "   ------------------ --------------------- 41.0/90.6 kB 487.6 kB/s eta 0:00:01\n",
      "   ------------------------------------ --- 81.9/90.6 kB 651.6 kB/s eta 0:00:01\n",
      "   ---------------------------------------- 90.6/90.6 kB 569.8 kB/s eta 0:00:00\n",
      "Installing collected packages: pyserial\n",
      "Successfully installed pyserial-3.5\n"
     ]
    },
    {
     "name": "stderr",
     "output_type": "stream",
     "text": [
      "  WARNING: The scripts pyserial-miniterm.exe and pyserial-ports.exe are installed in 'C:\\Users\\DELL\\AppData\\Roaming\\Python\\Python312\\Scripts' which is not on PATH.\n",
      "  Consider adding this directory to PATH or, if you prefer to suppress this warning, use --no-warn-script-location.\n"
     ]
    }
   ],
   "source": [
    "!pip install pyserial"
   ]
  },
  {
   "cell_type": "code",
   "execution_count": 7,
   "id": "c578d96b-a6cc-48ef-b418-5cee0dd9b6e0",
   "metadata": {},
   "outputs": [],
   "source": [
    "import serial\n",
    "import joblib\n",
    "import time\n",
    "import numpy as np"
   ]
  },
  {
   "cell_type": "code",
   "execution_count": 9,
   "id": "cb32f73d-0f63-46e2-b638-45c60d8b1e1a",
   "metadata": {},
   "outputs": [],
   "source": [
    "model = joblib.load('fire_model.pkl')"
   ]
  },
  {
   "cell_type": "code",
   "execution_count": null,
   "id": "38a99aca-4538-43ec-be5f-cfd6ad6a5aab",
   "metadata": {},
   "outputs": [],
   "source": [
    "arduino = serial.Serial('COM6', 9600, timeout=1)\n",
    "time.sleep(2)\n",
    "\n",
    "print(\" Connected to Arduino!\")"
   ]
  },
  {
   "cell_type": "code",
   "execution_count": null,
   "id": "b75ce47a-5a23-4d12-a4c8-6135553eb730",
   "metadata": {},
   "outputs": [],
   "source": [
    "while True:\n",
    "    try:\n",
    "        if arduino.in_waiting > 0:\n",
    "            line = arduino.readline().decode().strip()\n",
    "            print(\"🔄 Received:\", line)\n",
    "            \n",
    "            temp, smoke, flame = map(float, line.split(','))\n",
    "            input_data = np.array([[temp, smoke, flame]])\n",
    "            \n",
    "            prediction = model.predict(input_data)[0]\n",
    "            print(\"🔥 Prediction:\", prediction)\n",
    "           \n",
    "            arduino.write((prediction + '\\n').encode())\n",
    "    except:\n",
    "        continue"
   ]
  },
  {
   "cell_type": "code",
   "execution_count": null,
   "id": "6ecea379-f287-4fa0-ba8a-48664e5ff42e",
   "metadata": {},
   "outputs": [],
   "source": []
  }
 ],
 "metadata": {
  "kernelspec": {
   "display_name": "Python 3 (ipykernel)",
   "language": "python",
   "name": "python3"
  },
  "language_info": {
   "codemirror_mode": {
    "name": "ipython",
    "version": 3
   },
   "file_extension": ".py",
   "mimetype": "text/x-python",
   "name": "python",
   "nbconvert_exporter": "python",
   "pygments_lexer": "ipython3",
   "version": "3.12.4"
  }
 },
 "nbformat": 4,
 "nbformat_minor": 5
}
