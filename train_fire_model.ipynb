{
 "cells": [
  {
   "cell_type": "code",
   "execution_count": 1,
   "id": "fb0891d2-ac6f-477f-9688-1abc0e9a5ce2",
   "metadata": {},
   "outputs": [],
   "source": [
    "import pandas as pd\n",
    "from sklearn.ensemble import RandomForestClassifier\n",
    "import joblib"
   ]
  },
  {
   "cell_type": "code",
   "execution_count": 9,
   "id": "86a363f6-648f-4cde-8f3c-3baae9da7e15",
   "metadata": {},
   "outputs": [],
   "source": [
    "data = {\n",
    "    'Temp': [30, 45, 60, 70, 90],\n",
    "    'Smoke': [100, 200, 400, 600, 800],\n",
    "    'Flame': [0, 0, 1, 1, 1],\n",
    "    'Fire_Level': ['NO_FIRE', 'NO_FIRE', 'LOW_FIRE', 'MEDIUM_FIRE', 'HIGH_FIRE']\n",
    "}\n",
    "\n",
    "df = pd.DataFrame(data)"
   ]
  },
  {
   "cell_type": "code",
   "execution_count": 13,
   "id": "009b59ab-560f-497b-9aa3-b25b11b1c182",
   "metadata": {},
   "outputs": [
    {
     "name": "stdout",
     "output_type": "stream",
     "text": [
      " Model Trained and Saved!\n"
     ]
    }
   ],
   "source": [
    "X = df[['Temp', 'Smoke', 'Flame']]\n",
    "y = df['Fire_Level']\n",
    "\n",
    "\n",
    "model = RandomForestClassifier()\n",
    "model.fit(X, y)\n",
    "\n",
    "joblib.dump(model, 'fire_model.pkl')\n",
    "\n",
    "print(\" Model Trained and Saved!\")"
   ]
  },
  {
   "cell_type": "code",
   "execution_count": null,
   "id": "5624b6dd-8e8f-4ea4-9ced-b5e75a37bf88",
   "metadata": {},
   "outputs": [],
   "source": []
  }
 ],
 "metadata": {
  "kernelspec": {
   "display_name": "Python 3 (ipykernel)",
   "language": "python",
   "name": "python3"
  },
  "language_info": {
   "codemirror_mode": {
    "name": "ipython",
    "version": 3
   },
   "file_extension": ".py",
   "mimetype": "text/x-python",
   "name": "python",
   "nbconvert_exporter": "python",
   "pygments_lexer": "ipython3",
   "version": "3.12.4"
  }
 },
 "nbformat": 4,
 "nbformat_minor": 5
}
